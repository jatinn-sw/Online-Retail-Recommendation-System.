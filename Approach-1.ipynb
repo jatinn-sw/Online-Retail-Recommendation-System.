{
 "cells": [
  {
   "cell_type": "markdown",
   "id": "50d27a04-2fb6-405c-9833-1a7bd554ba3a",
   "metadata": {},
   "source": [
    "# Online Retail Decommendation System."
   ]
  },
  {
   "cell_type": "code",
   "execution_count": 2,
   "id": "03a599e8-edc4-48d4-98f7-7afac040be76",
   "metadata": {},
   "outputs": [],
   "source": [
    "# Import necessary libraries.\n",
    "import pandas as pd\n",
    "import seaborn as sns\n",
    "import matplotlib.pyplot as plt"
   ]
  },
  {
   "cell_type": "code",
   "execution_count": 3,
   "id": "3aa61572-212f-45c5-af8b-022333ca63fc",
   "metadata": {},
   "outputs": [],
   "source": [
    "# Read data source CSV file.\n",
    "file_path = 'OnlineRetail.csv'  \n",
    "df = pd.read_csv(file_path, encoding='unicode_escape')"
   ]
  },
  {
   "cell_type": "code",
   "execution_count": 4,
   "id": "c40c3f16-a7bc-4b98-8298-fb559e22d116",
   "metadata": {},
   "outputs": [
    {
     "data": {
      "text/html": [
       "<div>\n",
       "<style scoped>\n",
       "    .dataframe tbody tr th:only-of-type {\n",
       "        vertical-align: middle;\n",
       "    }\n",
       "\n",
       "    .dataframe tbody tr th {\n",
       "        vertical-align: top;\n",
       "    }\n",
       "\n",
       "    .dataframe thead th {\n",
       "        text-align: right;\n",
       "    }\n",
       "</style>\n",
       "<table border=\"1\" class=\"dataframe\">\n",
       "  <thead>\n",
       "    <tr style=\"text-align: right;\">\n",
       "      <th></th>\n",
       "      <th>InvoiceNo</th>\n",
       "      <th>StockCode</th>\n",
       "      <th>Description</th>\n",
       "      <th>Quantity</th>\n",
       "      <th>InvoiceDate</th>\n",
       "      <th>UnitPrice</th>\n",
       "      <th>CustomerID</th>\n",
       "      <th>Country</th>\n",
       "    </tr>\n",
       "  </thead>\n",
       "  <tbody>\n",
       "    <tr>\n",
       "      <th>0</th>\n",
       "      <td>536365</td>\n",
       "      <td>85123A</td>\n",
       "      <td>WHITE HANGING HEART T-LIGHT HOLDER</td>\n",
       "      <td>6</td>\n",
       "      <td>12/1/2010 8:26</td>\n",
       "      <td>2.55</td>\n",
       "      <td>17850.0</td>\n",
       "      <td>United Kingdom</td>\n",
       "    </tr>\n",
       "    <tr>\n",
       "      <th>1</th>\n",
       "      <td>536365</td>\n",
       "      <td>71053</td>\n",
       "      <td>WHITE METAL LANTERN</td>\n",
       "      <td>6</td>\n",
       "      <td>12/1/2010 8:26</td>\n",
       "      <td>3.39</td>\n",
       "      <td>17850.0</td>\n",
       "      <td>United Kingdom</td>\n",
       "    </tr>\n",
       "    <tr>\n",
       "      <th>2</th>\n",
       "      <td>536365</td>\n",
       "      <td>84406B</td>\n",
       "      <td>CREAM CUPID HEARTS COAT HANGER</td>\n",
       "      <td>8</td>\n",
       "      <td>12/1/2010 8:26</td>\n",
       "      <td>2.75</td>\n",
       "      <td>17850.0</td>\n",
       "      <td>United Kingdom</td>\n",
       "    </tr>\n",
       "    <tr>\n",
       "      <th>3</th>\n",
       "      <td>536365</td>\n",
       "      <td>84029G</td>\n",
       "      <td>KNITTED UNION FLAG HOT WATER BOTTLE</td>\n",
       "      <td>6</td>\n",
       "      <td>12/1/2010 8:26</td>\n",
       "      <td>3.39</td>\n",
       "      <td>17850.0</td>\n",
       "      <td>United Kingdom</td>\n",
       "    </tr>\n",
       "    <tr>\n",
       "      <th>4</th>\n",
       "      <td>536365</td>\n",
       "      <td>84029E</td>\n",
       "      <td>RED WOOLLY HOTTIE WHITE HEART.</td>\n",
       "      <td>6</td>\n",
       "      <td>12/1/2010 8:26</td>\n",
       "      <td>3.39</td>\n",
       "      <td>17850.0</td>\n",
       "      <td>United Kingdom</td>\n",
       "    </tr>\n",
       "  </tbody>\n",
       "</table>\n",
       "</div>"
      ],
      "text/plain": [
       "  InvoiceNo StockCode                          Description  Quantity  \\\n",
       "0    536365    85123A   WHITE HANGING HEART T-LIGHT HOLDER         6   \n",
       "1    536365     71053                  WHITE METAL LANTERN         6   \n",
       "2    536365    84406B       CREAM CUPID HEARTS COAT HANGER         8   \n",
       "3    536365    84029G  KNITTED UNION FLAG HOT WATER BOTTLE         6   \n",
       "4    536365    84029E       RED WOOLLY HOTTIE WHITE HEART.         6   \n",
       "\n",
       "      InvoiceDate  UnitPrice  CustomerID         Country  \n",
       "0  12/1/2010 8:26       2.55     17850.0  United Kingdom  \n",
       "1  12/1/2010 8:26       3.39     17850.0  United Kingdom  \n",
       "2  12/1/2010 8:26       2.75     17850.0  United Kingdom  \n",
       "3  12/1/2010 8:26       3.39     17850.0  United Kingdom  \n",
       "4  12/1/2010 8:26       3.39     17850.0  United Kingdom  "
      ]
     },
     "execution_count": 4,
     "metadata": {},
     "output_type": "execute_result"
    }
   ],
   "source": [
    "df.head()"
   ]
  },
  {
   "cell_type": "code",
   "execution_count": 5,
   "id": "24227b0d-a712-435c-ab07-0785da4d8b91",
   "metadata": {},
   "outputs": [
    {
     "name": "stdout",
     "output_type": "stream",
     "text": [
      "<class 'pandas.core.frame.DataFrame'>\n",
      "RangeIndex: 541909 entries, 0 to 541908\n",
      "Data columns (total 8 columns):\n",
      " #   Column       Non-Null Count   Dtype  \n",
      "---  ------       --------------   -----  \n",
      " 0   InvoiceNo    541909 non-null  object \n",
      " 1   StockCode    541909 non-null  object \n",
      " 2   Description  540455 non-null  object \n",
      " 3   Quantity     541909 non-null  int64  \n",
      " 4   InvoiceDate  541909 non-null  object \n",
      " 5   UnitPrice    541909 non-null  float64\n",
      " 6   CustomerID   406829 non-null  float64\n",
      " 7   Country      541909 non-null  object \n",
      "dtypes: float64(2), int64(1), object(5)\n",
      "memory usage: 33.1+ MB\n"
     ]
    }
   ],
   "source": [
    "# Check dataframe information.\n",
    "df.info()"
   ]
  },
  {
   "cell_type": "code",
   "execution_count": 6,
   "id": "bc6889bb-26fe-48d1-a439-9308a6ebf749",
   "metadata": {},
   "outputs": [
    {
     "data": {
      "text/html": [
       "<div>\n",
       "<style scoped>\n",
       "    .dataframe tbody tr th:only-of-type {\n",
       "        vertical-align: middle;\n",
       "    }\n",
       "\n",
       "    .dataframe tbody tr th {\n",
       "        vertical-align: top;\n",
       "    }\n",
       "\n",
       "    .dataframe thead th {\n",
       "        text-align: right;\n",
       "    }\n",
       "</style>\n",
       "<table border=\"1\" class=\"dataframe\">\n",
       "  <thead>\n",
       "    <tr style=\"text-align: right;\">\n",
       "      <th></th>\n",
       "      <th>Quantity</th>\n",
       "      <th>UnitPrice</th>\n",
       "      <th>CustomerID</th>\n",
       "    </tr>\n",
       "  </thead>\n",
       "  <tbody>\n",
       "    <tr>\n",
       "      <th>count</th>\n",
       "      <td>541909.000000</td>\n",
       "      <td>541909.000000</td>\n",
       "      <td>406829.000000</td>\n",
       "    </tr>\n",
       "    <tr>\n",
       "      <th>mean</th>\n",
       "      <td>9.552250</td>\n",
       "      <td>4.611114</td>\n",
       "      <td>15287.690570</td>\n",
       "    </tr>\n",
       "    <tr>\n",
       "      <th>std</th>\n",
       "      <td>218.081158</td>\n",
       "      <td>96.759853</td>\n",
       "      <td>1713.600303</td>\n",
       "    </tr>\n",
       "    <tr>\n",
       "      <th>min</th>\n",
       "      <td>-80995.000000</td>\n",
       "      <td>-11062.060000</td>\n",
       "      <td>12346.000000</td>\n",
       "    </tr>\n",
       "    <tr>\n",
       "      <th>25%</th>\n",
       "      <td>1.000000</td>\n",
       "      <td>1.250000</td>\n",
       "      <td>13953.000000</td>\n",
       "    </tr>\n",
       "    <tr>\n",
       "      <th>50%</th>\n",
       "      <td>3.000000</td>\n",
       "      <td>2.080000</td>\n",
       "      <td>15152.000000</td>\n",
       "    </tr>\n",
       "    <tr>\n",
       "      <th>75%</th>\n",
       "      <td>10.000000</td>\n",
       "      <td>4.130000</td>\n",
       "      <td>16791.000000</td>\n",
       "    </tr>\n",
       "    <tr>\n",
       "      <th>max</th>\n",
       "      <td>80995.000000</td>\n",
       "      <td>38970.000000</td>\n",
       "      <td>18287.000000</td>\n",
       "    </tr>\n",
       "  </tbody>\n",
       "</table>\n",
       "</div>"
      ],
      "text/plain": [
       "            Quantity      UnitPrice     CustomerID\n",
       "count  541909.000000  541909.000000  406829.000000\n",
       "mean        9.552250       4.611114   15287.690570\n",
       "std       218.081158      96.759853    1713.600303\n",
       "min    -80995.000000  -11062.060000   12346.000000\n",
       "25%         1.000000       1.250000   13953.000000\n",
       "50%         3.000000       2.080000   15152.000000\n",
       "75%        10.000000       4.130000   16791.000000\n",
       "max     80995.000000   38970.000000   18287.000000"
      ]
     },
     "execution_count": 6,
     "metadata": {},
     "output_type": "execute_result"
    }
   ],
   "source": [
    "df.describe()"
   ]
  },
  {
   "cell_type": "markdown",
   "id": "5bb82d38-3e4d-4575-99e0-661c5af9766e",
   "metadata": {},
   "source": [
    "# Data Preprocessing"
   ]
  },
  {
   "cell_type": "code",
   "execution_count": 8,
   "id": "325428a5-1869-42ef-ac32-3412e349747d",
   "metadata": {},
   "outputs": [
    {
     "data": {
      "text/plain": [
       "InvoiceNo           0\n",
       "StockCode           0\n",
       "Description      1454\n",
       "Quantity            0\n",
       "InvoiceDate         0\n",
       "UnitPrice           0\n",
       "CustomerID     135080\n",
       "Country             0\n",
       "dtype: int64"
      ]
     },
     "execution_count": 8,
     "metadata": {},
     "output_type": "execute_result"
    }
   ],
   "source": [
    "df.isnull().sum()"
   ]
  },
  {
   "cell_type": "code",
   "execution_count": 9,
   "id": "7d74ccec-d36d-4e4b-a5eb-45c484069ae2",
   "metadata": {},
   "outputs": [],
   "source": [
    "# Drop rows with missing CustomerID as they may not be useful for recommendations\n",
    "df.dropna(subset=['CustomerID'], inplace=True)"
   ]
  },
  {
   "cell_type": "code",
   "execution_count": 10,
   "id": "e626a98c-6102-4869-9156-27348c1f1d63",
   "metadata": {},
   "outputs": [],
   "source": [
    "# Convert InvoiceDate to datetime\n",
    "df['InvoiceDate'] = pd.to_datetime(df['InvoiceDate'])"
   ]
  },
  {
   "cell_type": "markdown",
   "id": "809c671c-9553-469b-998b-ee8b47fecf20",
   "metadata": {},
   "source": [
    "# Exploratory Data Analysis (EDA)"
   ]
  },
  {
   "cell_type": "code",
   "execution_count": 12,
   "id": "e0968f18-937a-4ed5-b6ef-283d676bacac",
   "metadata": {},
   "outputs": [
    {
     "name": "stdout",
     "output_type": "stream",
     "text": [
      "Number of Transactions by Country:\n",
      " Country\n",
      "United Kingdom          361878\n",
      "Germany                   9495\n",
      "France                    8491\n",
      "EIRE                      7485\n",
      "Spain                     2533\n",
      "Netherlands               2371\n",
      "Belgium                   2069\n",
      "Switzerland               1877\n",
      "Portugal                  1480\n",
      "Australia                 1259\n",
      "Norway                    1086\n",
      "Italy                      803\n",
      "Channel Islands            758\n",
      "Finland                    695\n",
      "Cyprus                     622\n",
      "Sweden                     462\n",
      "Austria                    401\n",
      "Denmark                    389\n",
      "Japan                      358\n",
      "Poland                     341\n",
      "USA                        291\n",
      "Israel                     250\n",
      "Unspecified                244\n",
      "Singapore                  229\n",
      "Iceland                    182\n",
      "Canada                     151\n",
      "Greece                     146\n",
      "Malta                      127\n",
      "United Arab Emirates        68\n",
      "European Community          61\n",
      "RSA                         58\n",
      "Lebanon                     45\n",
      "Lithuania                   35\n",
      "Brazil                      32\n",
      "Czech Republic              30\n",
      "Bahrain                     17\n",
      "Saudi Arabia                10\n",
      "Name: InvoiceNo, dtype: int64\n"
     ]
    }
   ],
   "source": [
    "country_summary = df.groupby('Country')['InvoiceNo'].count().sort_values(ascending=False)\n",
    "\n",
    "print(\"Number of Transactions by Country:\\n\", country_summary)"
   ]
  },
  {
   "cell_type": "code",
   "execution_count": 13,
   "id": "1fdd2aa7-1686-4c9d-85c6-527bd4c87587",
   "metadata": {},
   "outputs": [
    {
     "data": {
      "image/png": "[encoded data removed]",
      "text/plain": [
       "<Figure size 1200x600 with 1 Axes>"
      ]
     },
     "metadata": {},
     "output_type": "display_data"
    }
   ],
   "source": [
    "# Plot top 10 transactions by country\n",
    "plt.figure(figsize=(12, 6))\n",
    "sns.barplot(x=country_summary.index[:10], y=country_summary.values[:10])\n",
    "plt.title('Top 10 Countries by Number of Transactions')\n",
    "plt.xticks(rotation=45)\n",
    "plt.show()"
   ]
  },
  {
   "cell_type": "code",
   "execution_count": 14,
   "id": "104762dc-e870-4fc4-8040-d320341eeeb5",
   "metadata": {},
   "outputs": [
    {
     "name": "stdout",
     "output_type": "stream",
     "text": [
      "Month\n",
      "2010-12    296362\n",
      "2011-01    269379\n",
      "2011-02    262833\n",
      "2011-03    344012\n",
      "2011-04    278585\n",
      "2011-05    367852\n",
      "2011-06    356922\n",
      "2011-07    363418\n",
      "2011-08    386612\n",
      "2011-09    537496\n",
      "2011-10    569666\n",
      "2011-11    669915\n",
      "2011-12    203836\n",
      "Freq: M, Name: Quantity, dtype: int64\n"
     ]
    }
   ],
   "source": [
    "# Summary of sales over time\n",
    "df['Month'] = df['InvoiceDate'].dt.to_period('M')\n",
    "monthly_sales = df.groupby('Month')['Quantity'].sum()\n",
    "print(monthly_sales)"
   ]
  },
  {
   "cell_type": "code",
   "execution_count": 15,
   "id": "4649e7db-0901-4ff7-9923-58beae1f4484",
   "metadata": {},
   "outputs": [
    {
     "data": {
      "image/png": "[encoded data removed]",
      "text/plain": [
       "<Figure size 1200x600 with 1 Axes>"
      ]
     },
     "metadata": {},
     "output_type": "display_data"
    }
   ],
   "source": [
    "# Plot sales over time\n",
    "plt.figure(figsize=(12, 6))\n",
    "monthly_sales.plot()\n",
    "plt.title('Sales Over Time')\n",
    "plt.xticks(rotation=45)\n",
    "plt.show()"
   ]
  },
  {
   "cell_type": "markdown",
   "id": "1f6611cf-c364-471d-99fd-dade89d38cd5",
   "metadata": {},
   "source": [
    "# Top Popular Items Analysis"
   ]
  },
  {
   "cell_type": "code",
   "execution_count": 17,
   "id": "a3def389-ee65-47be-8557-c3c91651d3e7",
   "metadata": {},
   "outputs": [
    {
     "name": "stdout",
     "output_type": "stream",
     "text": [
      "Top 10 Globally Popular Items:\n"
     ]
    },
    {
     "data": {
      "text/plain": [
       "Description\n",
       "WORLD WAR 2 GLIDERS ASSTD DESIGNS     53215\n",
       "JUMBO BAG RED RETROSPOT               45066\n",
       "ASSORTED COLOUR BIRD ORNAMENT         35314\n",
       "WHITE HANGING HEART T-LIGHT HOLDER    34147\n",
       "PACK OF 72 RETROSPOT CAKE CASES       33409\n",
       "POPCORN HOLDER                        30504\n",
       "RABBIT NIGHT LIGHT                    27094\n",
       "MINI PAINT SET VINTAGE                25880\n",
       "PACK OF 12 LONDON TISSUES             25321\n",
       "PACK OF 60 PINK PAISLEY CAKE CASES    24163\n",
       "Name: Quantity, dtype: int64"
      ]
     },
     "execution_count": 17,
     "metadata": {},
     "output_type": "execute_result"
    }
   ],
   "source": [
    "# Find the most popular items globally\n",
    "global_popular_items = df.groupby('Description')['Quantity'].sum().sort_values(ascending=False)\n",
    "print(\"Top 10 Globally Popular Items:\")\n",
    "global_popular_items.head(10)"
   ]
  },
  {
   "cell_type": "code",
   "execution_count": 18,
   "id": "33058868-7167-4f5e-89d4-1cc59ca40c13",
   "metadata": {},
   "outputs": [
    {
     "name": "stdout",
     "output_type": "stream",
     "text": [
      "Top 10 Country-wise Popular Items:\n"
     ]
    },
    {
     "data": {
      "text/plain": [
       "Country         Description                       \n",
       "United Kingdom  WORLD WAR 2 GLIDERS ASSTD DESIGNS     47982\n",
       "                JUMBO BAG RED RETROSPOT               40880\n",
       "                ASSORTED COLOUR BIRD ORNAMENT         32679\n",
       "                WHITE HANGING HEART T-LIGHT HOLDER    32097\n",
       "                POPCORN HOLDER                        28562\n",
       "                                                      ...  \n",
       "Bahrain         PINK REGENCY TEACUP AND SAUCER            6\n",
       "Saudi Arabia    GLASS JAR PEACOCK BATH SALTS              6\n",
       "                GLASS JAR MARMALADE                       6\n",
       "                GOLD EAR MUFF HEADPHONES                  2\n",
       "                GLASS JAR DAISY FRESH COTTON WOOL         1\n",
       "Name: Quantity, Length: 369, dtype: int64"
      ]
     },
     "execution_count": 18,
     "metadata": {},
     "output_type": "execute_result"
    }
   ],
   "source": [
    "# Find the most popular items by country\n",
    "country_popular_items = df.groupby(['Country', 'Description'])['Quantity'].sum().sort_values(ascending=False)\n",
    "print(\"Top 10 Country-wise Popular Items:\")\n",
    "country_popular_items.groupby(level=0).head(10)"
   ]
  },
  {
   "cell_type": "markdown",
   "id": "2cd3b9b6-f267-462c-a93f-48ab11ec9e96",
   "metadata": {},
   "source": [
    "# Recommendation System Function"
   ]
  },
  {
   "cell_type": "code",
   "execution_count": 20,
   "id": "7220115d-7d2a-435a-9f61-598735657e12",
   "metadata": {},
   "outputs": [
    {
     "name": "stdout",
     "output_type": "stream",
     "text": [
      "Top 10 Month-wise Popular Items:\n"
     ]
    },
    {
     "data": {
      "text/plain": [
       "Month    Description                      \n",
       "2011-11  ASSTD DESIGN 3D PAPER STICKERS       12551\n",
       "         RABBIT NIGHT LIGHT                   12322\n",
       "2011-04  WORLD WAR 2 GLIDERS ASSTD DESIGNS    10128\n",
       "2011-10  WORLD WAR 2 GLIDERS ASSTD DESIGNS     8174\n",
       "2011-11  POPCORN HOLDER                        8157\n",
       "                                              ...  \n",
       "2011-12  DISCO BALL CHRISTMAS DECORATION       1446\n",
       "         PAPER CHAIN KIT 50'S CHRISTMAS        1393\n",
       "         WORLD WAR 2 GLIDERS ASSTD DESIGNS     1363\n",
       "         ASSORTED COLOUR BIRD ORNAMENT         1274\n",
       "         RAIN PONCHO RETROSPOT                 1236\n",
       "Name: Quantity, Length: 130, dtype: int64"
      ]
     },
     "execution_count": 20,
     "metadata": {},
     "output_type": "execute_result"
    }
   ],
   "source": [
    "# Find the most popular items by month\n",
    "month_popular_items = df.groupby(['Month', 'Description'])['Quantity'].sum().sort_values(ascending=False)\n",
    "print(\"Top 10 Month-wise Popular Items:\")\n",
    "month_popular_items.groupby(level=0).head(10)"
   ]
  },
  {
   "cell_type": "code",
   "execution_count": 21,
   "id": "74c05f31-66fa-493c-8b1a-c1ad4f0e7c93",
   "metadata": {},
   "outputs": [],
   "source": [
    "def recommendations(global_items, country_items, month_items, country=None, month=None):\n",
    "    \n",
    "    \"\"\"\n",
    "    Recommends top items based on global, country, or month data.\n",
    "\n",
    "    Parameters:\n",
    "    - global_items: Top global items\n",
    "    - country_items: Top items for a specific country\n",
    "    - month_items: Top items for a specific month\n",
    "    - country: Filter recommendations by country (optional)\n",
    "    - month: Filter recommendations by month (optional)\n",
    "\n",
    "    Returns:\n",
    "    - Top recommended items\n",
    "    \"\"\"\n",
    "    \n",
    "    \n",
    "    if country and month:\n",
    "        return month_items.loc[(month, country)]\n",
    "    elif country:\n",
    "        return country_items.loc[country]\n",
    "    elif month:\n",
    "        return month_items.loc[month]\n",
    "    else:\n",
    "        return global_items.head(10)"
   ]
  },
  {
   "cell_type": "markdown",
   "id": "98d5c453-40c1-4684-8540-3b0b0ae2fe5d",
   "metadata": {},
   "source": [
    "# Example Usage for the System"
   ]
  },
  {
   "cell_type": "code",
   "execution_count": 23,
   "id": "43d7e819-ba64-4624-aabd-c0b38fed6554",
   "metadata": {},
   "outputs": [],
   "source": [
    "country = 'United Kingdom'\n",
    "month = '2011-12'"
   ]
  },
  {
   "cell_type": "code",
   "execution_count": 24,
   "id": "141982f3-e207-48b2-9946-228a3a2d2b3a",
   "metadata": {},
   "outputs": [
    {
     "name": "stdout",
     "output_type": "stream",
     "text": [
      "Global Recommendations:\n",
      " Description\n",
      "WORLD WAR 2 GLIDERS ASSTD DESIGNS     53215\n",
      "JUMBO BAG RED RETROSPOT               45066\n",
      "ASSORTED COLOUR BIRD ORNAMENT         35314\n",
      "WHITE HANGING HEART T-LIGHT HOLDER    34147\n",
      "PACK OF 72 RETROSPOT CAKE CASES       33409\n",
      "POPCORN HOLDER                        30504\n",
      "RABBIT NIGHT LIGHT                    27094\n",
      "MINI PAINT SET VINTAGE                25880\n",
      "PACK OF 12 LONDON TISSUES             25321\n",
      "PACK OF 60 PINK PAISLEY CAKE CASES    24163\n",
      "Name: Quantity, dtype: int64\n"
     ]
    }
   ],
   "source": [
    "print(\"Global Recommendations:\\n\", recommendations(global_popular_items, country_popular_items, month_popular_items))"
   ]
  },
  {
   "cell_type": "code",
   "execution_count": 25,
   "id": "8e3c47a9-7fa2-43c4-8853-3d6f9952a894",
   "metadata": {},
   "outputs": [
    {
     "name": "stdout",
     "output_type": "stream",
     "text": [
      "\n",
      "Recommendations for United Kingdom:\n"
     ]
    },
    {
     "data": {
      "text/plain": [
       "Description\n",
       "WORLD WAR 2 GLIDERS ASSTD DESIGNS      47982\n",
       "JUMBO BAG RED RETROSPOT                40880\n",
       "ASSORTED COLOUR BIRD ORNAMENT          32679\n",
       "WHITE HANGING HEART T-LIGHT HOLDER     32097\n",
       "POPCORN HOLDER                         28562\n",
       "                                       ...  \n",
       "CRUK Commission                          -16\n",
       "POSTAGE                                  -21\n",
       "ASSORTED TUTTI FRUTTI ROUND BOX          -24\n",
       "Discount                               -1191\n",
       "ROTATING SILVER ANGELS T-LIGHT HLDR    -1853\n",
       "Name: Quantity, Length: 3849, dtype: int64"
      ]
     },
     "execution_count": 25,
     "metadata": {},
     "output_type": "execute_result"
    }
   ],
   "source": [
    "print(f\"\\nRecommendations for {country}:\")\n",
    "recommendations(global_popular_items, country_popular_items, month_popular_items, country=country)"
   ]
  },
  {
   "cell_type": "code",
   "execution_count": 26,
   "id": "8d27b1be-cf80-4e3f-a1ca-21231a77430f",
   "metadata": {},
   "outputs": [
    {
     "name": "stdout",
     "output_type": "stream",
     "text": [
      "\n",
      "Recommendations for 2011-12:\n"
     ]
    },
    {
     "data": {
      "text/plain": [
       "Description\n",
       "POPCORN HOLDER                       5343\n",
       "RABBIT NIGHT LIGHT                   3678\n",
       "VINTAGE DOILY JUMBO BAG RED          2066\n",
       "BLACK RECORD COVER FRAME             1464\n",
       "METAL SIGN TAKE IT OR LEAVE IT       1451\n",
       "                                     ... \n",
       "SET OF 6 HALLOWEEN GHOST T-LIGHTS     -36\n",
       "PARTY CONES CANDY ASSORTED            -42\n",
       "ASSORTED TUTTI FRUTTI PEN             -59\n",
       "MAGIC DRAWING SLATE PURDEY            -62\n",
       "OFFICE MUG WARMER PINK               -221\n",
       "Name: Quantity, Length: 2189, dtype: int64"
      ]
     },
     "execution_count": 26,
     "metadata": {},
     "output_type": "execute_result"
    }
   ],
   "source": [
    "print(f\"\\nRecommendations for {month}:\")\n",
    "recommendations(global_popular_items, country_popular_items, month_popular_items, month=month)"
   ]
  }
 ],
 "metadata": {
  "kernelspec": {
   "display_name": "Python 3 (ipykernel)",
   "language": "python",
   "name": "python3"
  },
  "language_info": {
   "codemirror_mode": {
    "name": "ipython",
    "version": 3
   },
   "file_extension": ".py",
   "mimetype": "text/x-python",
   "name": "python",
   "nbconvert_exporter": "python",
   "pygments_lexer": "ipython3",
   "version": "3.12.7"
  }
 },
 "nbformat": 4,
 "nbformat_minor": 5
}
